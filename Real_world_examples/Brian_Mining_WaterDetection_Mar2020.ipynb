{
 "cells": [
  {
   "cell_type": "markdown",
   "metadata": {},
   "source": [
    "# Mining Detection - Finding new Water Bodies\n",
    "This notebook finds area with new water bodies, which are often a proxy for active mining. A region is selected and two time regions are selected. Pixels that have NO water in the first time window and then show NEW water in the second time window are identified. This algorithm uses the Australian WOFS water detection algorithm. For more information on WOFS, visit this website: http://www.ga.gov.au/scientific-topics/hazards/flood/wofs"
   ]
  },
  {
   "cell_type": "markdown",
   "metadata": {},
   "source": [
    "## <span id=\"import\">Import Dependencies and Connect to the Data Cube [&#9652;](#top)</span>"
   ]
  },
  {
   "cell_type": "code",
   "execution_count": 1,
   "metadata": {},
   "outputs": [],
   "source": [
    "import warnings\n",
    "warnings.filterwarnings('ignore')\n",
    "\n",
    "import matplotlib.pyplot as plt\n",
    "import numpy as np \n",
    "import pandas as pd\n",
    "import xarray as xr\n",
    " \n",
    "import datacube\n",
    "from utils.data_cube_utilities.data_access_api import DataAccessApi"
   ]
  },
  {
   "cell_type": "code",
   "execution_count": 2,
   "metadata": {},
   "outputs": [],
   "source": [
    "api = DataAccessApi(config = '/home/localuser/.datacube.conf')\n",
    "dc = api.dc"
   ]
  },
  {
   "cell_type": "markdown",
   "metadata": {},
   "source": [
    "## <span id=\"plat_prod\">Choose Platforms and Products [&#9652;](#top)</span>"
   ]
  },
  {
   "cell_type": "code",
   "execution_count": 3,
   "metadata": {},
   "outputs": [],
   "source": [
    "# These are the platforms (satellites) and \n",
    "# products (datacube sets) used for this demonstration.\n",
    "\n",
    "# platform = 'LANDSAT_7'\n",
    "# product = 'ls7_ledaps_ghana'\n",
    "\n",
    "platform = 'LANDSAT_8'\n",
    "product = 'ls8_lasrc_ghana'\n",
    "\n",
    "# The fraction of the original resolution to use for analysis.\n",
    "# Use this to control memory consumption and run time.\n",
    "# Set this to None to not scale the resolution of the data.\n",
    "frac_res = None"
   ]
  },
  {
   "cell_type": "markdown",
   "metadata": {},
   "source": [
    "## <span id=\"extents\">Get the Maximum Extents of the Cube [&#9652;](#top)</span>"
   ]
  },
  {
   "cell_type": "code",
   "execution_count": 4,
   "metadata": {},
   "outputs": [
    {
     "name": "stdout",
     "output_type": "stream",
     "text": [
      "(3.7730589405966173, 11.318637832619382)\n",
      "(-3.772789446011382, 1.8863273493593828)\n",
      "(numpy.datetime64('2013-04-13T10:10:55.000000000'), numpy.datetime64('2020-01-27T10:09:38.000000000'))\n"
     ]
    }
   ],
   "source": [
    "# Print extents of the Data Cube\n",
    "extents = api.get_full_dataset_extent(platform = platform, product = product)\n",
    "\n",
    "latitude_extents = (min(extents['latitude'].values),max(extents['latitude'].values))\n",
    "longitude_extents = (min(extents['longitude'].values),max(extents['longitude'].values))\n",
    "time_extents = (min(extents['time'].values),max(extents['time'].values))\n",
    "\n",
    "print(latitude_extents)\n",
    "print(longitude_extents)\n",
    "print(time_extents)"
   ]
  },
  {
   "cell_type": "code",
   "execution_count": 5,
   "metadata": {
    "scrolled": false
   },
   "outputs": [],
   "source": [
    "from utils.data_cube_utilities.dc_display_map import display_map\n",
    "\n",
    "# Display the total shared area available for these datacube products.\n",
    "# display_map(latitude = full_lat,longitude = full_lon)"
   ]
  },
  {
   "cell_type": "markdown",
   "metadata": {},
   "source": [
    "## <span id=\"define_extents\">Define the Extents of the Analysis [&#9652;](#top)</span>"
   ]
  },
  {
   "cell_type": "code",
   "execution_count": 6,
   "metadata": {},
   "outputs": [],
   "source": [
    "# Select an analysis region (Lat-Lon) within the extents listed above. \n",
    "# If your datasets are empty, check which products and time extents you used.\n",
    "# HINT: Keep your region small (<0.5 deg square) to avoid memory overload issues.\n",
    "# Select a time period (Min-Max) within the extents listed above (Year-Month-Day).\n",
    "# This region and time period will be used for the water assessment.\n",
    "\n",
    "# West of Obuasi, Ghana - SMALL REGION\n",
    "# lat = (6.2286, 6.2822)\n",
    "# lon = (-1.9324, -1.8871)\n",
    "\n",
    "# West of Obuasi, Ghana - LARGE REGION\n",
    "# Run case from 2015 (year) thru 2019 (first 3 months)\n",
    "# lat = (6.0985, 6.2675)\n",
    "# lon = (-2.050, -1.8629)\n",
    "\n",
    "# Ankobra River Basin = Prestia Sample\n",
    "# Time periods = 29-Dec-2015 to Jan-2018\n",
    "# lat = (5.4458, 5.5258 )\n",
    "# lon = (-2.1792, -2.0886)\n",
    "\n",
    "# Ankobra River Basin = Entire Bounding Region\n",
    "lat = (5.198, 5.695)\n",
    "lon = (-2.275, -1.750)\n"
   ]
  },
  {
   "cell_type": "code",
   "execution_count": 7,
   "metadata": {},
   "outputs": [],
   "source": [
    "# Define the two time windows here\n",
    "# No water from 2013-2014 and then new water after 2014\n",
    "first_time_window = (\"2013-01-01\", \"2014-12-31\")\n",
    "second_time_window = (\"2015-01-01\", \"2019-12-31\")\n"
   ]
  },
  {
   "cell_type": "code",
   "execution_count": 8,
   "metadata": {
    "scrolled": false
   },
   "outputs": [
    {
     "data": {
      "text/html": [
       "<div style=\"width:100%;\"><div style=\"position:relative;width:100%;height:0;padding-bottom:60%;\"><iframe src=\"data:text/html;charset=utf-8;base64,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\" style=\"position:absolute;width:100%;height:100%;left:0;top:0;border:none !important;\" allowfullscreen webkitallowfullscreen mozallowfullscreen></iframe></div></div>"
      ],
      "text/plain": [
       "<folium.folium.Map at 0x7f221505bf98>"
      ]
     },
     "execution_count": 8,
     "metadata": {},
     "output_type": "execute_result"
    }
   ],
   "source": [
    "display_map(lat, lon)"
   ]
  },
  {
   "cell_type": "markdown",
   "metadata": {},
   "source": [
    "### Determine Where There is No Water in FIRST time window and Water in SECOND time window"
   ]
  },
  {
   "cell_type": "markdown",
   "metadata": {},
   "source": [
    "**Find pixels with No Water in FIRST time window**"
   ]
  },
  {
   "cell_type": "code",
   "execution_count": 9,
   "metadata": {
    "scrolled": false
   },
   "outputs": [],
   "source": [
    "from utils.data_cube_utilities.clean_mask import landsat_qa_clean_mask\n",
    "measurements = ['red', 'green', 'blue', 'nir', 'swir1', 'swir2', 'pixel_qa']\n",
    "dataset = dc.load(platform=platform, product=product, \n",
    "                  lat=lat, lon=lon, \n",
    "                  time=first_time_window, measurements=measurements)\n",
    "clean_mask = landsat_qa_clean_mask(dataset, platform=platform)"
   ]
  },
  {
   "cell_type": "code",
   "execution_count": 10,
   "metadata": {},
   "outputs": [
    {
     "data": {
      "text/plain": [
       "<xarray.Dataset>\n",
       "Dimensions:    (latitude: 1845, longitude: 1949, time: 32)\n",
       "Coordinates:\n",
       "  * time       (time) datetime64[ns] 2013-04-18T10:29:51 ... 2014-12-26T10:21:58\n",
       "  * latitude   (latitude) float64 5.695 5.695 5.695 5.694 ... 5.199 5.198 5.198\n",
       "  * longitude  (longitude) float64 -2.275 -2.275 -2.274 ... -1.751 -1.75 -1.75\n",
       "Data variables:\n",
       "    red        (time, latitude, longitude) int16 1479 2235 1774 ... 927 933 1114\n",
       "    green      (time, latitude, longitude) int16 1585 2292 1884 ... 904 915 1026\n",
       "    blue       (time, latitude, longitude) int16 1512 2226 1707 ... 549 576 646\n",
       "    nir        (time, latitude, longitude) int16 4180 4635 4404 ... 2220 2366\n",
       "    swir1      (time, latitude, longitude) int16 2489 3279 3024 ... 2134 2553\n",
       "    swir2      (time, latitude, longitude) int16 1517 2207 1914 ... 1308 1667\n",
       "    pixel_qa   (time, latitude, longitude) int32 480 480 480 480 ... 322 322 322\n",
       "Attributes:\n",
       "    crs:      EPSG:4326"
      ]
     },
     "execution_count": 10,
     "metadata": {},
     "output_type": "execute_result"
    }
   ],
   "source": [
    "dataset"
   ]
  },
  {
   "cell_type": "code",
   "execution_count": 11,
   "metadata": {
    "scrolled": true
   },
   "outputs": [],
   "source": [
    "from utils.data_cube_utilities.dc_water_classifier import wofs_classify\n",
    "from xarray.ufuncs import logical_not as xr_not\n",
    "\n",
    "water = wofs_classify(dataset, clean_mask.values).wofs\n",
    "del dataset, clean_mask\n",
    "water = water.astype(np.float16).where(water != -9999)\n",
    "not_water = xr_not(water.max('time'))\n",
    "del water"
   ]
  },
  {
   "cell_type": "markdown",
   "metadata": {},
   "source": [
    "**Find pixels with NEW water in the SECOND time window**"
   ]
  },
  {
   "cell_type": "code",
   "execution_count": 12,
   "metadata": {},
   "outputs": [],
   "source": [
    "measurements = ['red', 'green', 'blue', 'nir', 'swir1', 'swir2', 'pixel_qa']\n",
    "dataset = dc.load(platform=platform, product=product, \n",
    "                  lat=lat, lon=lon, \n",
    "                  time=second_time_window, measurements=measurements)\n",
    "clean_mask = landsat_qa_clean_mask(dataset, platform=platform)"
   ]
  },
  {
   "cell_type": "code",
   "execution_count": 13,
   "metadata": {
    "scrolled": true
   },
   "outputs": [],
   "source": [
    "water = wofs_classify(dataset, clean_mask.values).wofs\n",
    "del dataset, clean_mask\n",
    "water = water.astype(np.float16).where(water != -9999)\n",
    "water_after = water.max('time')\n",
    "del water"
   ]
  },
  {
   "cell_type": "markdown",
   "metadata": {},
   "source": [
    "### Merge the Masks and Clip the Shapefile"
   ]
  },
  {
   "cell_type": "code",
   "execution_count": 14,
   "metadata": {},
   "outputs": [],
   "source": [
    "from xarray.ufuncs import logical_and as xr_and\n",
    "not_water_then_water = xr_and(not_water, water_after)"
   ]
  },
  {
   "cell_type": "code",
   "execution_count": 15,
   "metadata": {},
   "outputs": [],
   "source": [
    "SHAPE_FILE_PATH = \"data/Ghana/Prestea.shp\""
   ]
  },
  {
   "cell_type": "code",
   "execution_count": 16,
   "metadata": {},
   "outputs": [],
   "source": [
    "import fiona\n",
    "import xarray as xr \n",
    "from rasterio.features import geometry_mask\n",
    "import shapely\n",
    "from shapely.ops import transform\n",
    "from shapely.geometry import shape\n",
    "from functools import partial\n",
    "import pyproj\n",
    "\n",
    "def shapefile_mask(dataset: xr.Dataset, shapefile) -> np.array:\n",
    "    \"\"\"Extracts a mask from a shapefile using dataset latitude and longitude extents.\n",
    "\n",
    "    Args:\n",
    "        dataset (xarray.Dataset): The dataset with the latitude and longitude extents.\n",
    "        shapefile (string): The shapefile to be used for extraction.\n",
    "\n",
    "    Returns:\n",
    "        A boolean mask array.\n",
    "    \"\"\"\n",
    "    with fiona.open(shapefile, 'r') as source:\n",
    "        collection = list(source)\n",
    "        geometries = []\n",
    "        for feature in collection:\n",
    "            geom = shape(feature['geometry'])\n",
    "            project = partial(\n",
    "                pyproj.transform,\n",
    "                pyproj.Proj(init=source.crs['init']), # source crs\n",
    "                pyproj.Proj(init='epsg:4326')) # destination crs\n",
    "            geom = transform(project, geom)  # apply projection\n",
    "            geometries.append(geom)\n",
    "        geobox = dataset.geobox\n",
    "        mask = geometry_mask(\n",
    "            geometries,\n",
    "            out_shape=geobox.shape,\n",
    "            transform=geobox.affine,\n",
    "            all_touched=True,\n",
    "            invert=True)\n",
    "    return mask"
   ]
  },
  {
   "cell_type": "code",
   "execution_count": 17,
   "metadata": {},
   "outputs": [],
   "source": [
    "measurements = ['nir']\n",
    "dataset = dc.load(platform=platform, product=product, lat=lat, lon=lon, \n",
    "                  time=second_time_window, measurements=measurements)\n",
    "mask = shapefile_mask(dataset, SHAPE_FILE_PATH)\n",
    "del dataset\n",
    "not_water_then_water = not_water_then_water.where(mask)"
   ]
  },
  {
   "cell_type": "markdown",
   "metadata": {},
   "source": [
    "### Plot the Final Results"
   ]
  },
  {
   "cell_type": "code",
   "execution_count": 18,
   "metadata": {
    "scrolled": false
   },
   "outputs": [
    {
     "data": {
      "image/png": "[encoded data removed]",
      "text/plain": [
       "<Figure size 576x576 with 1 Axes>"
      ]
     },
     "metadata": {
      "needs_background": "light"
     },
     "output_type": "display_data"
    }
   ],
   "source": [
    "fig, ax = plt.subplots(1, 1, figsize=(8,8))\n",
    "not_water_then_water.plot.imshow(cmap='gnuplot_r', vmin=0, vmax=1, add_colorbar=False)\n",
    "ax.set_title('New Water Pixels since FIRST time window'), ax.xaxis.set_visible(False), ax.yaxis.set_visible(False)\n",
    "plt.show()"
   ]
  },
  {
   "cell_type": "markdown",
   "metadata": {},
   "source": [
    "### WOFS Water Counts"
   ]
  },
  {
   "cell_type": "code",
   "execution_count": 19,
   "metadata": {},
   "outputs": [],
   "source": [
    "# WOFS value for water = 0.0 or 1.0\n",
    "# The threshold uses a range of 0.99 to 1.01 to identify water (1.0)\n",
    "\n",
    "wofs_minimum_threshold = 0.99\n",
    "wofs_maximum_threshold = 1.01"
   ]
  },
  {
   "cell_type": "code",
   "execution_count": 20,
   "metadata": {},
   "outputs": [],
   "source": [
    "def threshold_count(da, min_threshold, max_threshold, mask = None):\n",
    "    def count_not_nans(arr):\n",
    "        return np.count_nonzero(~np.isnan(arr))\n",
    "    \n",
    "    in_threshold = np.logical_and( da.values > min_threshold, da.values < max_threshold)\n",
    "    \n",
    "    total_non_cloudy = count_not_nans(da.values) if mask is None else np.sum(mask) \n",
    "    \n",
    "    return dict(total = np.size(da.values),\n",
    "                total_non_cloudy = total_non_cloudy,\n",
    "                inside = np.nansum(in_threshold),\n",
    "                outside = total_non_cloudy - np.nansum(in_threshold)\n",
    "               )    \n",
    "    \n",
    "def threshold_percentage(da, min_threshold, max_threshold, mask = None):\n",
    "    counts = threshold_count(da, min_threshold, max_threshold, mask = mask)\n",
    "    return dict(percent_inside_threshold = (counts[\"inside\"]   / counts[\"total\"]) * 100.0,\n",
    "                percent_outside_threshold = (counts[\"outside\"] / counts[\"total\"]) * 100.0,\n",
    "                percent_clouds = ( 100.0-counts[\"total_non_cloudy\"] / counts[\"total\"] * 100.0))"
   ]
  },
  {
   "cell_type": "code",
   "execution_count": 21,
   "metadata": {
    "scrolled": true
   },
   "outputs": [
    {
     "data": {
      "text/plain": [
       "{'total': 3595905,\n",
       " 'total_non_cloudy': 2039207,\n",
       " 'inside': 21154,\n",
       " 'outside': 2018053}"
      ]
     },
     "execution_count": 21,
     "metadata": {},
     "output_type": "execute_result"
    }
   ],
   "source": [
    "# COUNT = number of pixels in each category\n",
    "# INSIDE = Number of water pixels \n",
    "threshold_count(not_water_then_water,wofs_minimum_threshold,wofs_maximum_threshold)"
   ]
  },
  {
   "cell_type": "markdown",
   "metadata": {},
   "source": [
    "### GeoTIFF Output Products"
   ]
  },
  {
   "cell_type": "code",
   "execution_count": 22,
   "metadata": {},
   "outputs": [],
   "source": [
    "from utils_special.data_cube_utilities.import_export import export_xarray_to_geotiff\n",
    "\n",
    "# Remove the comment to create a GeoTIFF output product\n",
    "# Change the name of the output file, or it will be overwritten for each run \n",
    "\n",
    "#!rm 'geotiffs/new_water_case1_del.tif'\n",
    "export_xarray_to_geotiff(data=not_water_then_water.fillna(2).astype(np.uint8),\n",
    "                         tif_path='geotiffs/new_water_case1_fix.tif',no_data=2)"
   ]
  },
  {
   "cell_type": "code",
   "execution_count": 23,
   "metadata": {},
   "outputs": [],
   "source": [
    "# !ls -lah geotiffs/*.tif"
   ]
  }
 ],
 "metadata": {
  "kernelspec": {
   "display_name": "Python 3",
   "language": "python",
   "name": "python3"
  },
  "language_info": {
   "codemirror_mode": {
    "name": "ipython",
    "version": 3
   },
   "file_extension": ".py",
   "mimetype": "text/x-python",
   "name": "python",
   "nbconvert_exporter": "python",
   "pygments_lexer": "ipython3",
   "version": "3.6.6"
  }
 },
 "nbformat": 4,
 "nbformat_minor": 2
}
