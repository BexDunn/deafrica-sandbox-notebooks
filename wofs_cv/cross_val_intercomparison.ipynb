{
 "cells": [
  {
   "cell_type": "markdown",
   "metadata": {},
   "source": [
    "# Intercomparison of cross validation points"
   ]
  },
  {
   "cell_type": "code",
   "execution_count": 1,
   "metadata": {},
   "outputs": [],
   "source": [
    "import os\n",
    "import pandas as pd\n",
    "import numpy as np"
   ]
  },
  {
   "cell_type": "code",
   "execution_count": 2,
   "metadata": {},
   "outputs": [],
   "source": [
    "data_folder = 'data/clean/'"
   ]
  },
  {
   "cell_type": "markdown",
   "metadata": {},
   "source": [
    "## Open first dataframe"
   ]
  },
  {
   "cell_type": "code",
   "execution_count": 3,
   "metadata": {},
   "outputs": [],
   "source": [
    "dfs=[]\n",
    "for f in os.listdir(data_folder):\n",
    "    name, ext = os.path.splitext(f)\n",
    "    if ext == '.csv':\n",
    "        dfs.append(f)"
   ]
  },
  {
   "cell_type": "code",
   "execution_count": 4,
   "metadata": {},
   "outputs": [
    {
     "data": {
      "text/plain": [
       "211"
      ]
     },
     "execution_count": 4,
     "metadata": {},
     "output_type": "execute_result"
    }
   ],
   "source": [
    "df = pd.read_csv(data_folder+dfs[0]).set_index('Unnamed: 0').drop(['class', 'plot_id'], axis=1)\n",
    "len(df)"
   ]
  },
  {
   "cell_type": "markdown",
   "metadata": {},
   "source": [
    "## Join other dataframes where lat,lon and month match\n",
    "\n",
    "Usin 'outer' method so we retain all observations"
   ]
  },
  {
   "cell_type": "code",
   "execution_count": 5,
   "metadata": {},
   "outputs": [],
   "source": [
    "for f in dfs[1:]:\n",
    "    other=pd.read_csv(data_folder+f).set_index('Unnamed: 0').drop(['class', 'plot_id'], axis=1)\n",
    "    df = df.merge(other, on=['lat', 'lon', 'month'], suffixes=[None, f[0:3]], how='outer')"
   ]
  },
  {
   "cell_type": "markdown",
   "metadata": {},
   "source": [
    "## Find unique mode for each lat,lon,month"
   ]
  },
  {
   "cell_type": "code",
   "execution_count": 6,
   "metadata": {},
   "outputs": [],
   "source": [
    "u = df.filter(like='waterflag').mode(axis=1, dropna=False)\n",
    "if len(u.columns) > 1:\n",
    "    u = u.iloc[:, 0].where(u.iloc[:, 1:].isna().all(axis=1))\n",
    "\n",
    "df['waterflag_mode'] = u"
   ]
  },
  {
   "cell_type": "markdown",
   "metadata": {},
   "source": [
    "## Find counts"
   ]
  },
  {
   "cell_type": "code",
   "execution_count": 7,
   "metadata": {},
   "outputs": [
    {
     "data": {
      "text/plain": [
       "1.0    273\n",
       "0.0    121\n",
       "2.0     18\n",
       "Name: waterflag_mode, dtype: int64"
      ]
     },
     "execution_count": 7,
     "metadata": {},
     "output_type": "execute_result"
    }
   ],
   "source": [
    "df['waterflag_mode'].value_counts()"
   ]
  },
  {
   "cell_type": "code",
   "execution_count": 8,
   "metadata": {},
   "outputs": [
    {
     "data": {
      "text/html": [
       "<div>\n",
       "<style scoped>\n",
       "    .dataframe tbody tr th:only-of-type {\n",
       "        vertical-align: middle;\n",
       "    }\n",
       "\n",
       "    .dataframe tbody tr th {\n",
       "        vertical-align: top;\n",
       "    }\n",
       "\n",
       "    .dataframe thead th {\n",
       "        text-align: right;\n",
       "    }\n",
       "</style>\n",
       "<table border=\"1\" class=\"dataframe\">\n",
       "  <thead>\n",
       "    <tr style=\"text-align: right;\">\n",
       "      <th></th>\n",
       "      <th>lat</th>\n",
       "      <th>lon</th>\n",
       "      <th>month</th>\n",
       "      <th>waterflag</th>\n",
       "      <th>waterflagAFR</th>\n",
       "      <th>waterflagAFR</th>\n",
       "      <th>waterflagAGR</th>\n",
       "      <th>waterflagAGR</th>\n",
       "      <th>waterflagRCM</th>\n",
       "      <th>waterflagRCM</th>\n",
       "      <th>waterflagAFR</th>\n",
       "      <th>waterflagAFR</th>\n",
       "      <th>waterflag_mode</th>\n",
       "    </tr>\n",
       "  </thead>\n",
       "  <tbody>\n",
       "    <tr>\n",
       "      <th>0</th>\n",
       "      <td>7.103984</td>\n",
       "      <td>13.880937</td>\n",
       "      <td>1</td>\n",
       "      <td>0.0</td>\n",
       "      <td>NaN</td>\n",
       "      <td>NaN</td>\n",
       "      <td>0.0</td>\n",
       "      <td>0.0</td>\n",
       "      <td>0.0</td>\n",
       "      <td>0.0</td>\n",
       "      <td>NaN</td>\n",
       "      <td>0.0</td>\n",
       "      <td>0.0</td>\n",
       "    </tr>\n",
       "    <tr>\n",
       "      <th>1</th>\n",
       "      <td>7.103984</td>\n",
       "      <td>13.880937</td>\n",
       "      <td>2</td>\n",
       "      <td>0.0</td>\n",
       "      <td>NaN</td>\n",
       "      <td>NaN</td>\n",
       "      <td>2.0</td>\n",
       "      <td>2.0</td>\n",
       "      <td>NaN</td>\n",
       "      <td>0.0</td>\n",
       "      <td>NaN</td>\n",
       "      <td>NaN</td>\n",
       "      <td>NaN</td>\n",
       "    </tr>\n",
       "    <tr>\n",
       "      <th>2</th>\n",
       "      <td>7.103984</td>\n",
       "      <td>13.880937</td>\n",
       "      <td>4</td>\n",
       "      <td>0.0</td>\n",
       "      <td>0.0</td>\n",
       "      <td>0.0</td>\n",
       "      <td>0.0</td>\n",
       "      <td>0.0</td>\n",
       "      <td>NaN</td>\n",
       "      <td>0.0</td>\n",
       "      <td>NaN</td>\n",
       "      <td>NaN</td>\n",
       "      <td>0.0</td>\n",
       "    </tr>\n",
       "    <tr>\n",
       "      <th>3</th>\n",
       "      <td>7.103984</td>\n",
       "      <td>13.880937</td>\n",
       "      <td>9</td>\n",
       "      <td>0.0</td>\n",
       "      <td>NaN</td>\n",
       "      <td>NaN</td>\n",
       "      <td>2.0</td>\n",
       "      <td>2.0</td>\n",
       "      <td>NaN</td>\n",
       "      <td>0.0</td>\n",
       "      <td>NaN</td>\n",
       "      <td>NaN</td>\n",
       "      <td>NaN</td>\n",
       "    </tr>\n",
       "    <tr>\n",
       "      <th>4</th>\n",
       "      <td>7.103984</td>\n",
       "      <td>13.880937</td>\n",
       "      <td>10</td>\n",
       "      <td>0.0</td>\n",
       "      <td>0.0</td>\n",
       "      <td>0.0</td>\n",
       "      <td>2.0</td>\n",
       "      <td>2.0</td>\n",
       "      <td>NaN</td>\n",
       "      <td>0.0</td>\n",
       "      <td>NaN</td>\n",
       "      <td>0.0</td>\n",
       "      <td>0.0</td>\n",
       "    </tr>\n",
       "    <tr>\n",
       "      <th>...</th>\n",
       "      <td>...</td>\n",
       "      <td>...</td>\n",
       "      <td>...</td>\n",
       "      <td>...</td>\n",
       "      <td>...</td>\n",
       "      <td>...</td>\n",
       "      <td>...</td>\n",
       "      <td>...</td>\n",
       "      <td>...</td>\n",
       "      <td>...</td>\n",
       "      <td>...</td>\n",
       "      <td>...</td>\n",
       "      <td>...</td>\n",
       "    </tr>\n",
       "    <tr>\n",
       "      <th>1022</th>\n",
       "      <td>5.999222</td>\n",
       "      <td>0.994027</td>\n",
       "      <td>74</td>\n",
       "      <td>NaN</td>\n",
       "      <td>NaN</td>\n",
       "      <td>NaN</td>\n",
       "      <td>NaN</td>\n",
       "      <td>NaN</td>\n",
       "      <td>NaN</td>\n",
       "      <td>NaN</td>\n",
       "      <td>NaN</td>\n",
       "      <td>2.0</td>\n",
       "      <td>NaN</td>\n",
       "    </tr>\n",
       "    <tr>\n",
       "      <th>1023</th>\n",
       "      <td>5.999222</td>\n",
       "      <td>0.994027</td>\n",
       "      <td>75</td>\n",
       "      <td>NaN</td>\n",
       "      <td>NaN</td>\n",
       "      <td>NaN</td>\n",
       "      <td>NaN</td>\n",
       "      <td>NaN</td>\n",
       "      <td>NaN</td>\n",
       "      <td>NaN</td>\n",
       "      <td>NaN</td>\n",
       "      <td>2.0</td>\n",
       "      <td>NaN</td>\n",
       "    </tr>\n",
       "    <tr>\n",
       "      <th>1024</th>\n",
       "      <td>5.999222</td>\n",
       "      <td>0.994027</td>\n",
       "      <td>76</td>\n",
       "      <td>NaN</td>\n",
       "      <td>NaN</td>\n",
       "      <td>NaN</td>\n",
       "      <td>NaN</td>\n",
       "      <td>NaN</td>\n",
       "      <td>NaN</td>\n",
       "      <td>NaN</td>\n",
       "      <td>NaN</td>\n",
       "      <td>2.0</td>\n",
       "      <td>NaN</td>\n",
       "    </tr>\n",
       "    <tr>\n",
       "      <th>1025</th>\n",
       "      <td>5.999222</td>\n",
       "      <td>0.994027</td>\n",
       "      <td>77</td>\n",
       "      <td>NaN</td>\n",
       "      <td>NaN</td>\n",
       "      <td>NaN</td>\n",
       "      <td>NaN</td>\n",
       "      <td>NaN</td>\n",
       "      <td>NaN</td>\n",
       "      <td>NaN</td>\n",
       "      <td>NaN</td>\n",
       "      <td>2.0</td>\n",
       "      <td>NaN</td>\n",
       "    </tr>\n",
       "    <tr>\n",
       "      <th>1026</th>\n",
       "      <td>5.999222</td>\n",
       "      <td>0.994027</td>\n",
       "      <td>78</td>\n",
       "      <td>NaN</td>\n",
       "      <td>NaN</td>\n",
       "      <td>NaN</td>\n",
       "      <td>NaN</td>\n",
       "      <td>NaN</td>\n",
       "      <td>NaN</td>\n",
       "      <td>NaN</td>\n",
       "      <td>NaN</td>\n",
       "      <td>2.0</td>\n",
       "      <td>NaN</td>\n",
       "    </tr>\n",
       "  </tbody>\n",
       "</table>\n",
       "<p>1027 rows × 13 columns</p>\n",
       "</div>"
      ],
      "text/plain": [
       "           lat        lon  month  waterflag  waterflagAFR  waterflagAFR  \\\n",
       "0     7.103984  13.880937      1        0.0           NaN           NaN   \n",
       "1     7.103984  13.880937      2        0.0           NaN           NaN   \n",
       "2     7.103984  13.880937      4        0.0           0.0           0.0   \n",
       "3     7.103984  13.880937      9        0.0           NaN           NaN   \n",
       "4     7.103984  13.880937     10        0.0           0.0           0.0   \n",
       "...        ...        ...    ...        ...           ...           ...   \n",
       "1022  5.999222   0.994027     74        NaN           NaN           NaN   \n",
       "1023  5.999222   0.994027     75        NaN           NaN           NaN   \n",
       "1024  5.999222   0.994027     76        NaN           NaN           NaN   \n",
       "1025  5.999222   0.994027     77        NaN           NaN           NaN   \n",
       "1026  5.999222   0.994027     78        NaN           NaN           NaN   \n",
       "\n",
       "      waterflagAGR  waterflagAGR  waterflagRCM  waterflagRCM  waterflagAFR  \\\n",
       "0              0.0           0.0           0.0           0.0           NaN   \n",
       "1              2.0           2.0           NaN           0.0           NaN   \n",
       "2              0.0           0.0           NaN           0.0           NaN   \n",
       "3              2.0           2.0           NaN           0.0           NaN   \n",
       "4              2.0           2.0           NaN           0.0           NaN   \n",
       "...            ...           ...           ...           ...           ...   \n",
       "1022           NaN           NaN           NaN           NaN           NaN   \n",
       "1023           NaN           NaN           NaN           NaN           NaN   \n",
       "1024           NaN           NaN           NaN           NaN           NaN   \n",
       "1025           NaN           NaN           NaN           NaN           NaN   \n",
       "1026           NaN           NaN           NaN           NaN           NaN   \n",
       "\n",
       "      waterflagAFR  waterflag_mode  \n",
       "0              0.0             0.0  \n",
       "1              NaN             NaN  \n",
       "2              NaN             0.0  \n",
       "3              NaN             NaN  \n",
       "4              0.0             0.0  \n",
       "...            ...             ...  \n",
       "1022           2.0             NaN  \n",
       "1023           2.0             NaN  \n",
       "1024           2.0             NaN  \n",
       "1025           2.0             NaN  \n",
       "1026           2.0             NaN  \n",
       "\n",
       "[1027 rows x 13 columns]"
      ]
     },
     "execution_count": 8,
     "metadata": {},
     "output_type": "execute_result"
    }
   ],
   "source": [
    "df"
   ]
  }
 ],
 "metadata": {
  "kernelspec": {
   "display_name": "Python 3",
   "language": "python",
   "name": "python3"
  },
  "language_info": {
   "codemirror_mode": {
    "name": "ipython",
    "version": 3
   },
   "file_extension": ".py",
   "mimetype": "text/x-python",
   "name": "python",
   "nbconvert_exporter": "python",
   "pygments_lexer": "ipython3",
   "version": "3.6.9"
  }
 },
 "nbformat": 4,
 "nbformat_minor": 4
}
