{
 "cells": [
  {
   "cell_type": "markdown",
   "metadata": {},
   "source": [
    "# Intercomparison of cross validation points\n",
    "\n",
    "We will join each dataset's 'waterflag' values together where the lat, lon, and month values align.\n",
    "\n",
    "There are two sensible strategies for joining the datasets. The 'inner' join method will return only those samples where _all_ the analysts reported a waterflag value (either 0,1,2, or 3). This is quite a strict strategy and very few samples are returned (but we have more confidence in them). \n",
    "\n",
    "The 'outer' strategy will combine all sample values regardless of whether every analyst actualy completed that sample.  This second strategy is less onerous and thus we return more samples, but some rows will contain only two observations, with the remainder filled with NaNs (so we have less confidence in many of the samples).  \n",
    "\n",
    "Once the dataframes are joined, we calculate the majority classification (mode of all analyst's classifications).  The percentage agreement between the individaul analyst's classifications and the majority classification are computed for each sample. The mean and standard deviation of all agreement percentages is reported at the end of the notebook."
   ]
  },
  {
   "cell_type": "code",
   "execution_count": 1,
   "metadata": {},
   "outputs": [],
   "source": [
    "import os\n",
    "import pandas as pd\n",
    "import numpy as np"
   ]
  },
  {
   "cell_type": "code",
   "execution_count": 2,
   "metadata": {},
   "outputs": [],
   "source": [
    "data_folder = 'data/clean/'"
   ]
  },
  {
   "cell_type": "markdown",
   "metadata": {},
   "source": [
    "## Open first dataframe"
   ]
  },
  {
   "cell_type": "code",
   "execution_count": 3,
   "metadata": {},
   "outputs": [],
   "source": [
    "#first grab the list of csvs\n",
    "dfs=[]\n",
    "for f in os.listdir(data_folder):\n",
    "    name, ext = os.path.splitext(f)\n",
    "    if ext == '.csv':\n",
    "        dfs.append(f)"
   ]
  },
  {
   "cell_type": "code",
   "execution_count": 4,
   "metadata": {},
   "outputs": [
    {
     "data": {
      "text/plain": [
       "211"
      ]
     },
     "execution_count": 4,
     "metadata": {},
     "output_type": "execute_result"
    }
   ],
   "source": [
    "#open the dataframes, and ignore some of the columns\n",
    "df = pd.read_csv(data_folder+dfs[0]).set_index('Unnamed: 0').drop(['class', 'plot_id'], axis=1)\n",
    "len(df)"
   ]
  },
  {
   "cell_type": "markdown",
   "metadata": {},
   "source": [
    "## Join other dataframes where lat,lon and month match\n",
    "\n",
    "* Use 'outer' join method to we retain all observations (lots of NaNs).\n",
    "\n",
    "* Use 'inner' join method to retain only the observations where every analyst has labelled the sample. This will result in only 15 observations in total (out of a possible: 80 samples * 12 months = 960) "
   ]
  },
  {
   "cell_type": "code",
   "execution_count": 5,
   "metadata": {},
   "outputs": [],
   "source": [
    "join_method = 'outer'\n",
    "\n",
    "for f in dfs[1:]:\n",
    "    other=pd.read_csv(data_folder+f).set_index('Unnamed: 0').drop(['class', 'plot_id'], axis=1)\n",
    "    df = df.merge(other, on=['lat', 'lon', 'month'], suffixes=[None, f[0:3]], how=join_method)"
   ]
  },
  {
   "cell_type": "markdown",
   "metadata": {},
   "source": [
    "## Find unique mode of waterflag for each lat,lon,month\n",
    "\n",
    "If `dropnans` is set to True, then if NaN is the most common value for the sample, it will not be counted. Instead, only values that aren't NaN will be counted in the mode calculation. For example, if of the 9 analysts, 7 have NaNs and two have 'water', then the mode will be 'water'."
   ]
  },
  {
   "cell_type": "code",
   "execution_count": 6,
   "metadata": {},
   "outputs": [],
   "source": [
    "dropnans = True"
   ]
  },
  {
   "cell_type": "code",
   "execution_count": 7,
   "metadata": {},
   "outputs": [],
   "source": [
    "u = df.filter(like='waterflag').mode(axis=1, dropna=dropnans)\n",
    "if len(u.columns) > 1:\n",
    "    u = u.iloc[:, 0].where(u.iloc[:, 1:].all(axis=1))\n",
    "\n",
    "df['waterflag_mode'] = u"
   ]
  },
  {
   "cell_type": "markdown",
   "metadata": {},
   "source": [
    "print the counts for each majority classification"
   ]
  },
  {
   "cell_type": "code",
   "execution_count": 8,
   "metadata": {},
   "outputs": [
    {
     "data": {
      "text/plain": [
       "2.0    465\n",
       "1.0    391\n",
       "0.0    171\n",
       "Name: waterflag_mode, dtype: int64"
      ]
     },
     "execution_count": 8,
     "metadata": {},
     "output_type": "execute_result"
    }
   ],
   "source": [
    "df['waterflag_mode'].value_counts(dropna=False)"
   ]
  },
  {
   "cell_type": "markdown",
   "metadata": {},
   "source": [
    "## Count agreements with majority waterflag"
   ]
  },
  {
   "cell_type": "code",
   "execution_count": 9,
   "metadata": {},
   "outputs": [],
   "source": [
    "x=[]\n",
    "for i in range(len(df)):\n",
    "    num_agree=(df.iloc[i, 3:12] == df.iloc[i, 12]).sum()\n",
    "    total_valid = np.count_nonzero(~np.isnan(df.iloc[i, 3:12]))      \n",
    "    x.append((num_agree/total_valid)*100)\n",
    "\n",
    "df['agree_percent'] = x"
   ]
  },
  {
   "cell_type": "markdown",
   "metadata": {},
   "source": [
    "## Mean and std of agreement across all cross-validation samples"
   ]
  },
  {
   "cell_type": "code",
   "execution_count": 10,
   "metadata": {},
   "outputs": [
    {
     "data": {
      "text/plain": [
       "81.89803867019097"
      ]
     },
     "execution_count": 10,
     "metadata": {},
     "output_type": "execute_result"
    }
   ],
   "source": [
    "df['agree_percent'].mean()"
   ]
  },
  {
   "cell_type": "code",
   "execution_count": 11,
   "metadata": {},
   "outputs": [
    {
     "data": {
      "text/plain": [
       "17.946191522129137"
      ]
     },
     "execution_count": 11,
     "metadata": {},
     "output_type": "execute_result"
    }
   ],
   "source": [
    "df['agree_percent'].std()"
   ]
  },
  {
   "cell_type": "markdown",
   "metadata": {},
   "source": [
    "### Export table"
   ]
  },
  {
   "cell_type": "code",
   "execution_count": 12,
   "metadata": {},
   "outputs": [],
   "source": [
    "df.to_csv('results/cross_validation_results.csv')"
   ]
  },
  {
   "cell_type": "code",
   "execution_count": null,
   "metadata": {},
   "outputs": [],
   "source": []
  }
 ],
 "metadata": {
  "kernelspec": {
   "display_name": "Python 3",
   "language": "python",
   "name": "python3"
  },
  "language_info": {
   "codemirror_mode": {
    "name": "ipython",
    "version": 3
   },
   "file_extension": ".py",
   "mimetype": "text/x-python",
   "name": "python",
   "nbconvert_exporter": "python",
   "pygments_lexer": "ipython3",
   "version": "3.6.9"
  }
 },
 "nbformat": 4,
 "nbformat_minor": 4
}
