{
 "cells": [
  {
   "cell_type": "markdown",
   "metadata": {},
   "source": [
    "# Generating animated time series using `xr_animation`  <img align=\"right\" src=\"../Supplementary_data/DE_Africa_Logo_Stacked_RGB_small.jpg\">\n",
    "\n",
    "\n",
    "* **Products used:** \n",
    "[s2_l2a](https://explorer.digitalearth.africa/s2_l2a)"
   ]
  },
  {
   "cell_type": "markdown",
   "metadata": {},
   "source": [
    "## Background\n",
    "Animations can be a powerful method for visualising change in the landscape across time using satellite imagery. Satellite data from Digital Earth Africa is an ideal subject for animations as it has been georeferenced, processed to analysis-ready surface reflectance, and stacked into a spatio-temporal 'data cube', allowing landscape conditions to be extracted and  visualised consistently across time.\n",
    "\n",
    "Using the DE Africa functions in `Scripts/deafrica_plotting`, which are based on `matplotlib.animation` and `xarray`, we can take a time series of Digital Earth Africa satellite imagery and export a visually appealing time series animation that shows how any location in Africa has changed."
   ]
  },
  {
   "cell_type": "markdown",
   "metadata": {},
   "source": [
    "## Description\n",
    "This notebook demonstrates how to:\n",
    "\n",
    "1. Import a time series of cloud-free satellite imagery from multiple satellites (i.e. Sentinel-2A and -2B) as an xarray dataset\n",
    "2. Plot the data as a three band time series animation\n",
    "3. Plot the data as a one band time series animation\n",
    "4. Export the resulting animations as either a GIF or MP4 file\n",
    "5. Add custom vector overlays\n",
    "6. Apply custom image processing functions to each animation frame\n",
    "\n",
    "***"
   ]
  },
  {
   "cell_type": "markdown",
   "metadata": {},
   "source": [
    "## Getting started\n",
    "To run this analysis, run all the cells in the notebook, starting with the \"Load packages\" cell. "
   ]
  },
  {
   "cell_type": "markdown",
   "metadata": {},
   "source": [
    "### Load packages"
   ]
  },
  {
   "cell_type": "code",
   "execution_count": 4,
   "metadata": {},
   "outputs": [],
   "source": [
    "%matplotlib inline\n",
    "\n",
    "import sys\n",
    "import datacube\n",
    "import skimage.exposure\n",
    "import geopandas as gpd\n",
    "import matplotlib.pyplot as plt\n",
    "from IPython.display import Image\n",
    "\n",
    "sys.path.append('Scripts')\n",
    "from deafrica_plotting import xr_animation, rgb, display_map\n",
    "from deafrica_datahandling import load_ard"
   ]
  },
  {
   "cell_type": "markdown",
   "metadata": {},
   "source": [
    "### Connect to the datacube"
   ]
  },
  {
   "cell_type": "code",
   "execution_count": 5,
   "metadata": {},
   "outputs": [],
   "source": [
    "dc = datacube.Datacube(app='Animated_timeseries')"
   ]
  },
  {
   "cell_type": "markdown",
   "metadata": {},
   "source": [
    "## Load satellite data from datacube\n",
    "We can use the [load_ard](Using_load_ard.ipynb) function to load data from multiple satellites (i.e. Sentinel-2A and -2B), and return a single `xarray.Dataset` containing only observations with a minimum percentage of good quality pixels. \n",
    "This will allow us to create a visually appealing time series animation of observations that are not affected by cloud.\n",
    "\n",
    "In the example below, we request that the function returns only observations which are 95% free of clouds and other poor quality pixels by specifyinge `min_gooddata=0.95`."
   ]
  },
  {
   "cell_type": "code",
   "execution_count": 14,
   "metadata": {},
   "outputs": [],
   "source": [
    "lat, lon = 0.6147, 36.0766  # Bui Reservoir inlet\n",
    "buffer = 0.1\n",
    "lat_buffer = 0.15\n",
    "min_gooddata=0.9\n",
    "\n",
    "x = (lon - buffer, lon + buffer)\n",
    "y =  (lat + lat_buffer, lat - lat_buffer)\n",
    "\n",
    "# Create a reusable query\n",
    "query = {'x': x,\n",
    "        'y': y,\n",
    "        'time': ('2013', '2021'),\n",
    "        'resolution': (-30, 30),\n",
    "         'group_by':'solar_day',\n",
    "         'output_crs':'epsg:6933',\n",
    "}"
   ]
  },
  {
   "cell_type": "code",
   "execution_count": 15,
   "metadata": {},
   "outputs": [
    {
     "data": {
      "text/html": [
       "<div style=\"width:100%;\"><div style=\"position:relative;width:100%;height:0;padding-bottom:60%;\"><iframe src=\"data:text/html;charset=utf-8;base64,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\" style=\"position:absolute;width:100%;height:100%;left:0;top:0;border:none !important;\" allowfullscreen webkitallowfullscreen mozallowfullscreen></iframe></div></div>"
      ],
      "text/plain": [
       "<folium.folium.Map at 0x7fc2ba04c320>"
      ]
     },
     "execution_count": 15,
     "metadata": {},
     "output_type": "execute_result"
    }
   ],
   "source": [
    "display_map(x, y)"
   ]
  },
  {
   "cell_type": "code",
   "execution_count": null,
   "metadata": {},
   "outputs": [],
   "source": [
    "# Load available data\n",
    "ds_s2 = load_ard(dc=dc, \n",
    "              products=['s2_l2a'],\n",
    "              measurements=['red', 'green', 'blue', 'nir_1', 'swir_1', 'swir_2'],\n",
    "              min_gooddata=min_gooddata,\n",
    "              **query)\n",
    "\n",
    "ds_ls = load_ard(dc=dc, \n",
    "              products=['ls8_usgs_sr_scene'],\n",
    "              measurements=['red', 'green', 'blue', 'nir_1', 'swir_1', 'swir_2'],\n",
    "              min_gooddata=min_gooddata,\n",
    "              **query)\n",
    "\n",
    "# Print output data\n",
    "print(ds)"
   ]
  },
  {
   "cell_type": "markdown",
   "metadata": {},
   "source": [
    "To get a quick idea of what the data looks like, we can plot the dataset in true colour using the `rgb` function:"
   ]
  },
  {
   "cell_type": "code",
   "execution_count": null,
   "metadata": {},
   "outputs": [],
   "source": [
    "# Plot images from the dataset\n",
    "rgb(ds, index=list(range(0, 8)))"
   ]
  },
  {
   "cell_type": "markdown",
   "metadata": {},
   "source": [
    "## Plot time series as a RGB/three band animated GIF\n",
    "The `xr_animation()` function is based on functionality within `matplotlib.animation`. \n",
    "It takes an `xarray.Dataset` and exports a one band or three band (e.g. true or false colour) GIF or MP4 animation showing changes in the landscape across time. \n",
    "\n",
    "In the next cell, we plot the dataset we loaded above as an animated GIF, using the `['red', 'green', 'blue']` satellite bands to generate a true colour RGB animation.  \n",
    "The interval between the animation frames is set to to 200 milliseconds using `interval`, and the width of the animation to 300 pixels using `width_pixels`.\n",
    "If these parameters are not specified, the function will use a default `interval` value of 100 milliseconds, and a default `width_pixels` value of 500 pixels."
   ]
  },
  {
   "cell_type": "code",
   "execution_count": null,
   "metadata": {},
   "outputs": [],
   "source": [
    "# Produce time series animation of red, green and blue bands\n",
    "xr_animation(ds=ds, \n",
    "             bands=['red', 'green', 'blue'],\n",
    "             output_path='animated_timeseries.gif',                                \n",
    "             interval=200, \n",
    "             width_pixels=300) \n",
    "\n",
    "# Plot animated gif\n",
    "plt.close()\n",
    "Image(filename='animated_timeseries.gif')\n"
   ]
  },
  {
   "cell_type": "markdown",
   "metadata": {},
   "source": [
    "We can also use different band combinations (e.g. false colour) using `bands`, add additional text using `show_text`, and change the font size using `annotation_kwargs`, which passes a dictionary of values to the matplotlib `plt.annotate` function (see [matplotlib.pyplot.annotate](https://matplotlib.org/api/_as_gen/matplotlib.pyplot.annotate.html) for options).\n",
    "\n",
    "The function will automatically select an appropriate colour stretch by clipping the data to remove outliers/extreme values smaller or greater than the 2 and 98th percentiles (e.g. similar to xarray's `robust=True`). This can be controlled further with the `percentile_stretch` parameter. For example, setting `percentile_stretch=(0.01, 0.99)` will apply a colour stretch with less contrast:"
   ]
  },
  {
   "cell_type": "code",
   "execution_count": null,
   "metadata": {},
   "outputs": [],
   "source": [
    "# Produce time series animation of red, green and blue bands\n",
    "xr_animation(ds=ds,\n",
    "             bands=['swir_2', 'nir_1', 'green'], \n",
    "             output_path='animated_timeseries.gif',\n",
    "             width_pixels=300,\n",
    "             show_text='Time-series animation',\n",
    "             percentile_stretch=(0.01, 0.99),\n",
    "             annotation_kwargs={'fontsize': 25}) \n",
    "\n",
    "# Plot animated gif\n",
    "plt.close()\n",
    "Image(filename='animated_timeseries.gif')"
   ]
  },
  {
   "cell_type": "markdown",
   "metadata": {},
   "source": [
    "### Plotting single band animations\n",
    "It is also possible to plot a single band image instead of a three band image. \n",
    "For example, we could plot an index like the Normalized Difference Water Index (NDWI), which has high values where a pixel is likely to be open water (e.g. NDWI > 0). \n",
    "\n",
    "By default the colour bar limits are set based on `percentile_stretch` which will discard outliers/extreme values to optimise the colour stretch (set `percentile_stretch=(0.0, 1.00)` to show the full range of values from min to max)."
   ]
  },
  {
   "cell_type": "code",
   "execution_count": null,
   "metadata": {},
   "outputs": [],
   "source": [
    "# Compute NDWI using the formula (green - nir) / (green + nir). \n",
    "# This will calculate NDWI for every time-step in the dataset:\n",
    "ds['NDWI'] = ((ds.green - ds.nir_1) / \n",
    "              (ds.green + ds.nir_1))\n",
    "\n",
    "# Produce time series animation of NDWI:\n",
    "xr_animation(ds=ds, \n",
    "             output_path='animated_timeseries.gif',\n",
    "             bands=['NDWI'], \n",
    "             show_text='NDWI', \n",
    "             width_pixels=300) \n",
    "\n",
    "# Plot animated gif\n",
    "plt.close()\n",
    "Image(filename='animated_timeseries.gif')"
   ]
  },
  {
   "cell_type": "markdown",
   "metadata": {},
   "source": [
    "We can customise animations based on a single band like NDWI by specifying parameters using `imshow_kwargs`, which is passed to the matplotlib [plt.imshow](https://matplotlib.org/api/_as_gen/matplotlib.pyplot.imshow.html) function (see link for options). \n",
    "For example, we can use a more appropriate blue colour scheme with `'cmap': 'Blues'`, and set `'vmin': 0.0, 'vmax': 0.5` to overrule the default colour bar limits with manually specified values:"
   ]
  },
  {
   "cell_type": "code",
   "execution_count": null,
   "metadata": {},
   "outputs": [],
   "source": [
    "# Produce time series animation using a custom colour scheme and limits:\n",
    "xr_animation(ds=ds,\n",
    "             bands='NDWI', \n",
    "             output_path='animated_timeseries.gif',\n",
    "             width_pixels=300,\n",
    "             show_text='NDWI',\n",
    "             imshow_kwargs={'cmap': 'Blues', 'vmin': 0.0, 'vmax': 0.5},\n",
    "             colorbar_kwargs={'colors': 'black'})\n",
    "\n",
    "# Plot animated gif\n",
    "plt.close()\n",
    "Image(filename='animated_timeseries.gif')\n"
   ]
  },
  {
   "cell_type": "markdown",
   "metadata": {},
   "source": [
    "One band animations show a colour bar by default, but this can be disabled using `show_colorbar`:"
   ]
  },
  {
   "cell_type": "code",
   "execution_count": null,
   "metadata": {},
   "outputs": [],
   "source": [
    "# Produce time series animation using a custom colour scheme and limits:\n",
    "xr_animation(ds=ds,\n",
    "             bands='NDWI', \n",
    "             output_path='animated_timeseries.gif',\n",
    "             width_pixels=300,\n",
    "             show_text='NDWI',\n",
    "             show_colorbar=False,\n",
    "             imshow_kwargs={'cmap': 'Blues', 'vmin': 0.0, 'vmax': 0.5})\n",
    "\n",
    "# Plot animated gif\n",
    "plt.close()\n",
    "Image(filename='animated_timeseries.gif')"
   ]
  },
  {
   "cell_type": "markdown",
   "metadata": {},
   "source": [
    "One band animations show a colour bar by default, but this can be disabled:"
   ]
  },
  {
   "cell_type": "markdown",
   "metadata": {},
   "source": [
    "## Available output formats\n",
    "The above examples have focused on exporting animated GIFs, but MP4 files can also be generated. The two formats have their own advantages and disadvantages:\n",
    "\n",
    "* `.mp4`: fast to generate, smallest file sizes and highest quality; suitable for Twitter/social media and recent versions of Powerpoint\n",
    "\n",
    "* `.gif`: slow to generate, large file sizes, low rendering quality; suitable for all versions of Powerpoint and Twitter/social media\n",
    "\n",
    "> Note: To preview a `.mp4` file from within JupyterLab, find the file (e.g. 'animated_timeseries.mp4') in the file browser on the left, right click, and select 'Open in New Browser Tab'."
   ]
  },
  {
   "cell_type": "code",
   "execution_count": null,
   "metadata": {},
   "outputs": [],
   "source": [
    "# Animate datasets as a MP4 file\n",
    "xr_animation(ds=ds, \n",
    "             bands=['red', 'green', 'blue'],\n",
    "             output_path='animated_timeseries.mp4')"
   ]
  },
  {
   "cell_type": "markdown",
   "metadata": {},
   "source": [
    "## Adding vector overlays\n",
    "\n",
    "The animation code supports plotting vector files (e.g. ESRI Shapefiles or GeoJSON) over the top of satellite imagery. To do this, we first load the file using geopandas, and pass this to `xr_animation` using the `show_gdf` parameter:\n"
   ]
  },
  {
   "cell_type": "code",
   "execution_count": null,
   "metadata": {},
   "outputs": [],
   "source": [
    "# Get shapefile path\n",
    "poly_gdf = gpd.read_file('../Supplementary_data/Animated_timeseries/example_polygon.shp')\n",
    "\n",
    "# Produce time series animation \n",
    "xr_animation(ds=ds, \n",
    "             bands=['red', 'green', 'blue'],\n",
    "             output_path='animated_timeseries.gif', \n",
    "             width_pixels=300,\n",
    "             show_gdf=poly_gdf) \n",
    "\n",
    "# Plot animated gif\n",
    "plt.close()\n",
    "Image(filename='animated_timeseries.gif')"
   ]
  },
  {
   "cell_type": "markdown",
   "metadata": {},
   "source": [
    "You can customise styling for vector overlays by including a column called `'color'` in the `geopandas.GeoDataFrame` object:"
   ]
  },
  {
   "cell_type": "code",
   "execution_count": null,
   "metadata": {},
   "outputs": [],
   "source": [
    "# Assign a colour to the GeoDataFrame\n",
    "poly_gdf['color'] = 'red'\n",
    "\n",
    "# Produce time series animation \n",
    "xr_animation(ds=ds, \n",
    "             bands=['red', 'green', 'blue'],\n",
    "             output_path='animated_timeseries.gif', \n",
    "             width_pixels=300,\n",
    "             show_gdf=poly_gdf) \n",
    "\n",
    "# Plot animated gif\n",
    "plt.close()\n",
    "Image(filename='animated_timeseries.gif')"
   ]
  },
  {
   "cell_type": "markdown",
   "metadata": {},
   "source": [
    "## Plotting vectors by time\n",
    "\n",
    "It can be useful to plot vector features over the top of imagery at specific times in an animation. For example, in this example we may want to plot different vectors depending on how full our waterbody was during our analysis period.\n",
    "\n",
    "To do this, we can create new `start_time` and `end_time` columns in our `geopandas.GeoDataFrame` that tell `xr_animation` how long to plot each feature over the top of our imagery:\n",
    "\n",
    "> **Note**: Dates can be provided in any string format that can be converted using the [pandas.to_datetime()](https://pandas.pydata.org/pandas-docs/stable/reference/api/pandas.to_datetime.html) function. For example, '2009', '2009-11', '2009-11-01' etc."
   ]
  },
  {
   "cell_type": "code",
   "execution_count": null,
   "metadata": {},
   "outputs": [],
   "source": [
    "# Assign start and end times to each feature\n",
    "poly_gdf['start_time'] = ['2017-09', '2017-11', '2017-12', '2018-01']\n",
    "poly_gdf['end_time'] = ['2017-11', '2017-12', '2018-01', '2018-02']\n",
    "\n",
    "# Preview the updated geopandas.GeoDataFrame\n",
    "poly_gdf"
   ]
  },
  {
   "cell_type": "markdown",
   "metadata": {},
   "source": [
    "We can now pass the updated `geopandas.GeoDataFram`e to `xr_animation`. We will also change our vector colours to a semi-transperant blue, and give them a blue outline using the `gdf_kwargs` parameter:"
   ]
  },
  {
   "cell_type": "code",
   "execution_count": null,
   "metadata": {},
   "outputs": [],
   "source": [
    "# Set vector features to a semi-transperant blue to represent water\n",
    "poly_gdf['color'] = '#0066ff90'\n",
    "\n",
    "# Produce time series animation \n",
    "xr_animation(ds=ds, \n",
    "             bands=['red', 'green', 'blue'],\n",
    "             output_path='animated_timeseries.gif', \n",
    "             width_pixels=300,\n",
    "             show_gdf=poly_gdf,\n",
    "             gdf_kwargs={'edgecolor': 'blue'}) \n",
    "\n",
    "# Plot animated gif\n",
    "plt.close()\n",
    "Image(filename='animated_timeseries.gif')"
   ]
  },
  {
   "cell_type": "markdown",
   "metadata": {},
   "source": [
    "## Custom image processing functions\n",
    "\n",
    "The image_proc_funcs parameter allows you to pass custom image processing functions that will be applied to each frame of your animation as they are rendered. This can be a powerful way to produce visually appealing animations - some example applications include:\n",
    "\n",
    "* Improving brightness, saturation or contrast\n",
    "* Sharpening your images\n",
    "* Histogram matching or equalisation\n",
    "\n",
    "To demonstrate this, we will apply two functions from the [skimage.exposure](https://scikit-image.org/docs/dev/api/skimage.exposure.html) module which contains many powerful image processing algorithms:\n",
    "\n",
    "1. `skimage.exposure.rescale_intensity` will first scale our data between 0.0 and 1.0 (required for step 2)\n",
    "2. `skimage.exposure.equalize_adapthist` will take this re-scaled data and apply an alogorithm that will enhance and contrast local details of the image\n",
    "\n",
    "> **Note:** Functions supplied to `image_proc_funcs` are applied one after another to each timestep in `ds` (e.g. each frame in the animation). \n",
    "Any custom function can be supplied to `image_proc_funcs`, providing it both **accepts and outputs** a `numpy.ndarray` with a shape of `(y, x, bands)`.\n",
    "    \n",
    "    "
   ]
  },
  {
   "cell_type": "code",
   "execution_count": null,
   "metadata": {},
   "outputs": [],
   "source": [
    "# Aniamte data after applying custom image processing functions to each frame\n",
    "xr_animation(ds=ds.fillna(0), \n",
    "             bands=['red', 'green', 'blue'],\n",
    "             output_path='animated_timeseries.gif',        \n",
    "             width_pixels=300,\n",
    "             image_proc_funcs=[skimage.exposure.rescale_intensity,                               \n",
    "                               skimage.exposure.equalize_adapthist])\n",
    "\n",
    "# Plot animated gifj\n",
    "plt.close()\n",
    "Image(filename='animated_timeseries.gif')\n"
   ]
  },
  {
   "cell_type": "markdown",
   "metadata": {},
   "source": [
    "***\n",
    "\n",
    "## Additional information\n",
    "\n",
    "**License:** The code in this notebook is licensed under the [Apache License, Version 2.0](https://www.apache.org/licenses/LICENSE-2.0). \n",
    "Digital Earth Africa data is licensed under the [Creative Commons by Attribution 4.0](https://creativecommons.org/licenses/by/4.0/) license.\n",
    "\n",
    "**Contact:** If you need assistance, please post a question on the [Open Data Cube Slack channel](http://slack.opendatacube.org/) or on the [GIS Stack Exchange](https://gis.stackexchange.com/questions/ask?tags=open-data-cube) using the `open-data-cube` tag (you can view previously asked questions [here](https://gis.stackexchange.com/questions/tagged/open-data-cube)).\n",
    "If you would like to report an issue with this notebook, you can file one on [Github](https://github.com/digitalearthafrica/deafrica-sandbox-notebooks).\n",
    "\n",
    "**Last modified:** June 2020\n",
    "\n",
    "**Compatible datacube version:** "
   ]
  },
  {
   "cell_type": "code",
   "execution_count": null,
   "metadata": {},
   "outputs": [],
   "source": [
    "print(datacube.__version__)"
   ]
  },
  {
   "cell_type": "markdown",
   "metadata": {},
   "source": [
    "## Tags\n",
    "Browse all available tags on the DE Africa User Guide's [Tags Index](https://) (placeholder as this does not exist yet)"
   ]
  },
  {
   "cell_type": "raw",
   "metadata": {
    "raw_mimetype": "text/restructuredtext"
   },
   "source": [
    "**Tags**: :index:`sentinel 2`, :index:`deafrica_datahandling`, :index:`deafrica_plotting`, :index:`load_ard`, :index:`rgb`, :index:`xr_animation`, :index:`matplotlib.animation`, :index:`NDWI`, :index:`animation`"
   ]
  }
 ],
 "metadata": {
  "kernelspec": {
   "display_name": "Python 3",
   "language": "python",
   "name": "python3"
  },
  "language_info": {
   "codemirror_mode": {
    "name": "ipython",
    "version": 3
   },
   "file_extension": ".py",
   "mimetype": "text/x-python",
   "name": "python",
   "nbconvert_exporter": "python",
   "pygments_lexer": "ipython3",
   "version": "3.6.9"
  },
  "widgets": {
   "application/vnd.jupyter.widget-state+json": {
    "state": {
     "051a9e4d25e64db0a8cb0c36c46712e1": {
      "model_module": "@jupyter-widgets/base",
      "model_module_version": "1.2.0",
      "model_name": "LayoutModel",
      "state": {}
     },
     "062f2796ffc04640870b2b27227f221d": {
      "model_module": "@jupyter-widgets/base",
      "model_module_version": "1.2.0",
      "model_name": "LayoutModel",
      "state": {}
     },
     "092558a562494413922a2aac4d21613f": {
      "model_module": "@jupyter-widgets/controls",
      "model_module_version": "1.5.0",
      "model_name": "ProgressStyleModel",
      "state": {
       "description_width": "initial"
      }
     },
     "0a432da82d6b4037b74eaccbe571082e": {
      "model_module": "@jupyter-widgets/controls",
      "model_module_version": "1.5.0",
      "model_name": "HTMLModel",
      "state": {
       "layout": "IPY_MODEL_73ff0de751614999917ed7860f78bd80",
       "style": "IPY_MODEL_d184b04851d24e31bc5b6cc692b2fd79",
       "value": " 13/13 (0.0 seconds remaining at  8.62 frames/s)"
      }
     },
     "0af01e9fa23b484e906e99f4be6c926f": {
      "model_module": "@jupyter-widgets/controls",
      "model_module_version": "1.5.0",
      "model_name": "FloatProgressModel",
      "state": {
       "bar_style": "success",
       "description": "100%",
       "layout": "IPY_MODEL_d5aa3d6ee4674d84afac1bb1c58fade4",
       "max": 13,
       "style": "IPY_MODEL_14340f3d89ba4962ba30ea0de95c9e77",
       "value": 13
      }
     },
     "0be163515c544d74bd4159320fb04723": {
      "model_module": "@jupyter-widgets/controls",
      "model_module_version": "1.5.0",
      "model_name": "HBoxModel",
      "state": {
       "children": [
        "IPY_MODEL_d06b9c766f984dde974ec9e954d61f92",
        "IPY_MODEL_5c3b912d5c684d7d96f5a14702fffc60"
       ],
       "layout": "IPY_MODEL_fbd2d0627e8346be988758b526fda9fa"
      }
     },
     "0c9a41c9f6d044efbc82d005fece9050": {
      "model_module": "@jupyter-widgets/controls",
      "model_module_version": "1.5.0",
      "model_name": "ProgressStyleModel",
      "state": {
       "description_width": "initial"
      }
     },
     "103447c4bf674bf5bb6fdf89da7c3bab": {
      "model_module": "@jupyter-widgets/base",
      "model_module_version": "1.2.0",
      "model_name": "LayoutModel",
      "state": {}
     },
     "14340f3d89ba4962ba30ea0de95c9e77": {
      "model_module": "@jupyter-widgets/controls",
      "model_module_version": "1.5.0",
      "model_name": "ProgressStyleModel",
      "state": {
       "description_width": "initial"
      }
     },
     "17333d71ecb749ff983fdd6caa76fcfa": {
      "model_module": "@jupyter-widgets/base",
      "model_module_version": "1.2.0",
      "model_name": "LayoutModel",
      "state": {}
     },
     "1858c809732a42e39725a1231460f98a": {
      "model_module": "@jupyter-widgets/controls",
      "model_module_version": "1.5.0",
      "model_name": "HTMLModel",
      "state": {
       "layout": "IPY_MODEL_103447c4bf674bf5bb6fdf89da7c3bab",
       "style": "IPY_MODEL_2604d202c3354f538ab8426d0a59c7e2",
       "value": " 13/13 (0.0 seconds remaining at  4.12 frames/s)"
      }
     },
     "1aa68dcf8f844f5aa637b4c5619fc594": {
      "model_module": "@jupyter-widgets/controls",
      "model_module_version": "1.5.0",
      "model_name": "ProgressStyleModel",
      "state": {
       "description_width": "initial"
      }
     },
     "1b0cdb6e3fad4114b46e831f12c80dad": {
      "model_module": "@jupyter-widgets/controls",
      "model_module_version": "1.5.0",
      "model_name": "FloatProgressModel",
      "state": {
       "layout": "IPY_MODEL_ef47e4cddc9746bba3a2d20cb69ed035",
       "max": 13,
       "style": "IPY_MODEL_0c9a41c9f6d044efbc82d005fece9050",
       "value": 13
      }
     },
     "1f03fdeca5a946438b34a48e794ae0bc": {
      "model_module": "@jupyter-widgets/base",
      "model_module_version": "1.2.0",
      "model_name": "LayoutModel",
      "state": {}
     },
     "2173ff9a2987459d92f4fc8658fabe44": {
      "model_module": "@jupyter-widgets/controls",
      "model_module_version": "1.5.0",
      "model_name": "HBoxModel",
      "state": {
       "children": [
        "IPY_MODEL_c278211d619a4434a300777b5e5650f5",
        "IPY_MODEL_b632d0e7f388480e99e48dfe3ac7b466"
       ],
       "layout": "IPY_MODEL_17333d71ecb749ff983fdd6caa76fcfa"
      }
     },
     "25375774a41b4e5990faee0271272c8a": {
      "model_module": "@jupyter-widgets/controls",
      "model_module_version": "1.5.0",
      "model_name": "HBoxModel",
      "state": {
       "children": [
        "IPY_MODEL_893cebe3ea7c4f51b316b083119b1581",
        "IPY_MODEL_71e2d1824a49466ebf8cabc552483a4e"
       ],
       "layout": "IPY_MODEL_66b20ef7f7394b26843c694bf64c74a0"
      }
     },
     "2604d202c3354f538ab8426d0a59c7e2": {
      "model_module": "@jupyter-widgets/controls",
      "model_module_version": "1.5.0",
      "model_name": "DescriptionStyleModel",
      "state": {
       "description_width": ""
      }
     },
     "26954ae45caf48fbb5aa2f94b112b608": {
      "model_module": "@jupyter-widgets/base",
      "model_module_version": "1.2.0",
      "model_name": "LayoutModel",
      "state": {}
     },
     "2d7e974ad4c5453eaeeb63822673743f": {
      "model_module": "@jupyter-widgets/controls",
      "model_module_version": "1.5.0",
      "model_name": "DescriptionStyleModel",
      "state": {
       "description_width": ""
      }
     },
     "2f278095108a45a991dfd7462df30b64": {
      "model_module": "@jupyter-widgets/base",
      "model_module_version": "1.2.0",
      "model_name": "LayoutModel",
      "state": {}
     },
     "2f704ef9c90344ad98f2c4ae87266f57": {
      "model_module": "@jupyter-widgets/controls",
      "model_module_version": "1.5.0",
      "model_name": "ProgressStyleModel",
      "state": {
       "description_width": "initial"
      }
     },
     "36666c57947947d79a9fd24352e70a53": {
      "model_module": "@jupyter-widgets/base",
      "model_module_version": "1.2.0",
      "model_name": "LayoutModel",
      "state": {}
     },
     "38e6554660e14120928b91d6230c0d60": {
      "model_module": "@jupyter-widgets/controls",
      "model_module_version": "1.5.0",
      "model_name": "HTMLModel",
      "state": {
       "layout": "IPY_MODEL_8cef891d34e149f5990a1b3386a28ea6",
       "style": "IPY_MODEL_2d7e974ad4c5453eaeeb63822673743f",
       "value": " 13/13 (0.0 seconds remaining at  2.36 frames/s)"
      }
     },
     "422f7ea51b234dfcbbe0cbe9ca6d7386": {
      "model_module": "@jupyter-widgets/base",
      "model_module_version": "1.2.0",
      "model_name": "LayoutModel",
      "state": {}
     },
     "42f12b2e72ed4b30b64f31c5a310aa4d": {
      "model_module": "@jupyter-widgets/base",
      "model_module_version": "1.2.0",
      "model_name": "LayoutModel",
      "state": {}
     },
     "46ad6086dbc844029617260f3de22e9f": {
      "model_module": "@jupyter-widgets/controls",
      "model_module_version": "1.5.0",
      "model_name": "DescriptionStyleModel",
      "state": {
       "description_width": ""
      }
     },
     "4719a18887e040928c6a63dfbf017ca2": {
      "model_module": "jupyter-leaflet",
      "model_module_version": "^0.11.1",
      "model_name": "LeafletAttributionControlModel",
      "state": {
       "_model_module_version": "^0.11.1",
       "_view_count": null,
       "_view_module_version": "^0.11.1",
       "options": [
        "position",
        "prefix"
       ],
       "position": "bottomright",
       "prefix": "Leaflet"
      }
     },
     "4850dc5d8ac34357a154c38bb4a8ff09": {
      "model_module": "@jupyter-widgets/controls",
      "model_module_version": "1.5.0",
      "model_name": "ProgressStyleModel",
      "state": {
       "description_width": "initial"
      }
     },
     "50595d5f0a15455b891144b1a3c86473": {
      "model_module": "@jupyter-widgets/controls",
      "model_module_version": "1.5.0",
      "model_name": "FloatProgressModel",
      "state": {
       "bar_style": "success",
       "description": "100%",
       "layout": "IPY_MODEL_26954ae45caf48fbb5aa2f94b112b608",
       "max": 13,
       "style": "IPY_MODEL_092558a562494413922a2aac4d21613f",
       "value": 13
      }
     },
     "575fdaf6b2d84e3bb37240836ba4f3e5": {
      "model_module": "@jupyter-widgets/base",
      "model_module_version": "1.2.0",
      "model_name": "LayoutModel",
      "state": {}
     },
     "5c3b912d5c684d7d96f5a14702fffc60": {
      "model_module": "@jupyter-widgets/controls",
      "model_module_version": "1.5.0",
      "model_name": "HTMLModel",
      "state": {
       "layout": "IPY_MODEL_051a9e4d25e64db0a8cb0c36c46712e1",
       "style": "IPY_MODEL_6801e7bb9ce442e096d56c91c39a0c1a",
       "value": " 13/13 (0.0 seconds remaining at  6.13 frames/s)"
      }
     },
     "5d94c1cc6cc44b10aa08537c886c4887": {
      "model_module": "@jupyter-widgets/base",
      "model_module_version": "1.2.0",
      "model_name": "LayoutModel",
      "state": {}
     },
     "62634d665f2344028c14e772aa87a4e1": {
      "model_module": "@jupyter-widgets/controls",
      "model_module_version": "1.5.0",
      "model_name": "HTMLModel",
      "state": {
       "layout": "IPY_MODEL_af84fa9a52a84125996cfaf661b8af85",
       "style": "IPY_MODEL_7ea5d80c3ca64d1f917d114f64826492",
       "value": " 14/? (0.0 seconds remaining at  4.93 frames/s)"
      }
     },
     "63113b8b598446c7b7241a286b16c123": {
      "model_module": "@jupyter-widgets/controls",
      "model_module_version": "1.5.0",
      "model_name": "FloatProgressModel",
      "state": {
       "bar_style": "success",
       "description": "100%",
       "layout": "IPY_MODEL_422f7ea51b234dfcbbe0cbe9ca6d7386",
       "max": 13,
       "style": "IPY_MODEL_870f7ef972534decb9597852578a196c",
       "value": 13
      }
     },
     "65b77d7ec6ca412da6a7ba4385c70d8a": {
      "model_module": "@jupyter-widgets/controls",
      "model_module_version": "1.5.0",
      "model_name": "HTMLModel",
      "state": {
       "layout": "IPY_MODEL_36666c57947947d79a9fd24352e70a53",
       "style": "IPY_MODEL_6ebc6c52c3e249d383e2191903e11b20",
       "value": " 13/13 (0.0 seconds remaining at  3.09 frames/s)"
      }
     },
     "66b20ef7f7394b26843c694bf64c74a0": {
      "model_module": "@jupyter-widgets/base",
      "model_module_version": "1.2.0",
      "model_name": "LayoutModel",
      "state": {}
     },
     "6801e7bb9ce442e096d56c91c39a0c1a": {
      "model_module": "@jupyter-widgets/controls",
      "model_module_version": "1.5.0",
      "model_name": "DescriptionStyleModel",
      "state": {
       "description_width": ""
      }
     },
     "6ebc6c52c3e249d383e2191903e11b20": {
      "model_module": "@jupyter-widgets/controls",
      "model_module_version": "1.5.0",
      "model_name": "DescriptionStyleModel",
      "state": {
       "description_width": ""
      }
     },
     "6f7dc7b2b73c4ffeb22a50704c70b409": {
      "model_module": "@jupyter-widgets/base",
      "model_module_version": "1.2.0",
      "model_name": "LayoutModel",
      "state": {}
     },
     "71e2d1824a49466ebf8cabc552483a4e": {
      "model_module": "@jupyter-widgets/controls",
      "model_module_version": "1.5.0",
      "model_name": "HTMLModel",
      "state": {
       "layout": "IPY_MODEL_75e29e127044457bb11005280ff7ab37",
       "style": "IPY_MODEL_b3b821c752054dd193e21a8b911d687e",
       "value": " 13/13 (0.0 seconds remaining at 31.88 frames/s)"
      }
     },
     "73ff0de751614999917ed7860f78bd80": {
      "model_module": "@jupyter-widgets/base",
      "model_module_version": "1.2.0",
      "model_name": "LayoutModel",
      "state": {}
     },
     "75e29e127044457bb11005280ff7ab37": {
      "model_module": "@jupyter-widgets/base",
      "model_module_version": "1.2.0",
      "model_name": "LayoutModel",
      "state": {}
     },
     "77b371ae6f604e37a876c8fc1ec135c5": {
      "model_module": "@jupyter-widgets/controls",
      "model_module_version": "1.5.0",
      "model_name": "HTMLModel",
      "state": {
       "layout": "IPY_MODEL_9929074fd308415a97514492ac77b71c",
       "style": "IPY_MODEL_f082ffec56a249da8b0f6cdd1f7abb1d",
       "value": " 13/13 (0.0 seconds remaining at 19.25 frames/s)"
      }
     },
     "7cd1559ab00c4805a34e82e16efcbbee": {
      "model_module": "@jupyter-widgets/base",
      "model_module_version": "1.2.0",
      "model_name": "LayoutModel",
      "state": {}
     },
     "7ea5d80c3ca64d1f917d114f64826492": {
      "model_module": "@jupyter-widgets/controls",
      "model_module_version": "1.5.0",
      "model_name": "DescriptionStyleModel",
      "state": {
       "description_width": ""
      }
     },
     "7ea8d8378ce04f83b910090f0c07123c": {
      "model_module": "@jupyter-widgets/base",
      "model_module_version": "1.2.0",
      "model_name": "LayoutModel",
      "state": {}
     },
     "7f407955aab144029790014f5aa7a5ed": {
      "model_module": "@jupyter-widgets/base",
      "model_module_version": "1.2.0",
      "model_name": "LayoutModel",
      "state": {}
     },
     "81d843fd8bba47d08306bbba80aabf43": {
      "model_module": "@jupyter-widgets/controls",
      "model_module_version": "1.5.0",
      "model_name": "HBoxModel",
      "state": {
       "children": [
        "IPY_MODEL_ce4c1d0c17054efeb86ddd79f712aee7",
        "IPY_MODEL_38e6554660e14120928b91d6230c0d60"
       ],
       "layout": "IPY_MODEL_eccb0b4d014c42a7a02328ef05a77892"
      }
     },
     "83013183e37542eeac8623eb3c756778": {
      "model_module": "@jupyter-widgets/base",
      "model_module_version": "1.2.0",
      "model_name": "LayoutModel",
      "state": {}
     },
     "870f7ef972534decb9597852578a196c": {
      "model_module": "@jupyter-widgets/controls",
      "model_module_version": "1.5.0",
      "model_name": "ProgressStyleModel",
      "state": {
       "description_width": "initial"
      }
     },
     "88286416475548b89494cf54b9869858": {
      "model_module": "@jupyter-widgets/controls",
      "model_module_version": "1.5.0",
      "model_name": "HTMLModel",
      "state": {
       "layout": "IPY_MODEL_42f12b2e72ed4b30b64f31c5a310aa4d",
       "style": "IPY_MODEL_eb134de1f91c4f63afb428cda2e4a250",
       "value": " 13/13 (0.0 seconds remaining at  2.67 frames/s)"
      }
     },
     "893cebe3ea7c4f51b316b083119b1581": {
      "model_module": "@jupyter-widgets/controls",
      "model_module_version": "1.5.0",
      "model_name": "FloatProgressModel",
      "state": {
       "description": "100%",
       "layout": "IPY_MODEL_83013183e37542eeac8623eb3c756778",
       "max": 13,
       "style": "IPY_MODEL_1aa68dcf8f844f5aa637b4c5619fc594",
       "value": 13
      }
     },
     "8b05b8c2d7b142efa33a380df55c6630": {
      "model_module": "@jupyter-widgets/controls",
      "model_module_version": "1.5.0",
      "model_name": "HBoxModel",
      "state": {
       "children": [
        "IPY_MODEL_9cc972fa7a7445a4b14df1921c77a217",
        "IPY_MODEL_88286416475548b89494cf54b9869858"
       ],
       "layout": "IPY_MODEL_a5bef23481f847cd8723116c8a9ee1ea"
      }
     },
     "8cef891d34e149f5990a1b3386a28ea6": {
      "model_module": "@jupyter-widgets/base",
      "model_module_version": "1.2.0",
      "model_name": "LayoutModel",
      "state": {}
     },
     "91e9c8c62aab4d588666f4c004d64fd0": {
      "model_module": "@jupyter-widgets/controls",
      "model_module_version": "1.5.0",
      "model_name": "HBoxModel",
      "state": {
       "children": [
        "IPY_MODEL_63113b8b598446c7b7241a286b16c123",
        "IPY_MODEL_1858c809732a42e39725a1231460f98a"
       ],
       "layout": "IPY_MODEL_5d94c1cc6cc44b10aa08537c886c4887"
      }
     },
     "9929074fd308415a97514492ac77b71c": {
      "model_module": "@jupyter-widgets/base",
      "model_module_version": "1.2.0",
      "model_name": "LayoutModel",
      "state": {}
     },
     "99db185983b2465aa1e0de203fdf1d41": {
      "model_module": "@jupyter-widgets/base",
      "model_module_version": "1.2.0",
      "model_name": "LayoutModel",
      "state": {}
     },
     "9be0ed36f7d943f28b390e9413408c18": {
      "model_module": "@jupyter-widgets/base",
      "model_module_version": "1.2.0",
      "model_name": "LayoutModel",
      "state": {}
     },
     "9cc972fa7a7445a4b14df1921c77a217": {
      "model_module": "@jupyter-widgets/controls",
      "model_module_version": "1.5.0",
      "model_name": "FloatProgressModel",
      "state": {
       "bar_style": "success",
       "description": "100%",
       "layout": "IPY_MODEL_062f2796ffc04640870b2b27227f221d",
       "max": 13,
       "style": "IPY_MODEL_4850dc5d8ac34357a154c38bb4a8ff09",
       "value": 13
      }
     },
     "9d6e7a4aa9a54a8380fce1f4345be5d2": {
      "model_module": "jupyter-leaflet",
      "model_module_version": "^0.11.1",
      "model_name": "LeafletZoomControlModel",
      "state": {
       "_model_module_version": "^0.11.1",
       "_view_count": null,
       "_view_module_version": "^0.11.1",
       "options": [
        "position",
        "zoom_in_text",
        "zoom_in_title",
        "zoom_out_text",
        "zoom_out_title"
       ]
      }
     },
     "9f89511a8ef146b1a964af9604843f31": {
      "model_module": "@jupyter-widgets/controls",
      "model_module_version": "1.5.0",
      "model_name": "ProgressStyleModel",
      "state": {
       "description_width": "initial"
      }
     },
     "a5bef23481f847cd8723116c8a9ee1ea": {
      "model_module": "@jupyter-widgets/base",
      "model_module_version": "1.2.0",
      "model_name": "LayoutModel",
      "state": {}
     },
     "a65ff6ba0f974c7a9e72235faa2d5b30": {
      "model_module": "@jupyter-widgets/base",
      "model_module_version": "1.2.0",
      "model_name": "LayoutModel",
      "state": {}
     },
     "ab347d198c974596bc4ccd192e567c57": {
      "model_module": "@jupyter-widgets/controls",
      "model_module_version": "1.5.0",
      "model_name": "ProgressStyleModel",
      "state": {
       "description_width": "initial"
      }
     },
     "af84fa9a52a84125996cfaf661b8af85": {
      "model_module": "@jupyter-widgets/base",
      "model_module_version": "1.2.0",
      "model_name": "LayoutModel",
      "state": {}
     },
     "b00c7d62983c4019a86c6522ea050794": {
      "model_module": "@jupyter-widgets/base",
      "model_module_version": "1.2.0",
      "model_name": "LayoutModel",
      "state": {}
     },
     "b31c3473086e48d2b1bb9884a4c7e827": {
      "model_module": "@jupyter-widgets/controls",
      "model_module_version": "1.5.0",
      "model_name": "ProgressStyleModel",
      "state": {
       "description_width": "initial"
      }
     },
     "b3b821c752054dd193e21a8b911d687e": {
      "model_module": "@jupyter-widgets/controls",
      "model_module_version": "1.5.0",
      "model_name": "DescriptionStyleModel",
      "state": {
       "description_width": ""
      }
     },
     "b632d0e7f388480e99e48dfe3ac7b466": {
      "model_module": "@jupyter-widgets/controls",
      "model_module_version": "1.5.0",
      "model_name": "HTMLModel",
      "state": {
       "layout": "IPY_MODEL_575fdaf6b2d84e3bb37240836ba4f3e5",
       "style": "IPY_MODEL_46ad6086dbc844029617260f3de22e9f",
       "value": " 14/? (0.0 seconds remaining at  7.71 frames/s)"
      }
     },
     "bbb1c7f2b0b248b5975e79a68d037454": {
      "model_module": "@jupyter-widgets/controls",
      "model_module_version": "1.5.0",
      "model_name": "HTMLModel",
      "state": {
       "layout": "IPY_MODEL_c14d1d46e6e54dbaa5babe65d6efdac9",
       "style": "IPY_MODEL_e895057363e24e3ab041120f7381dfa7",
       "value": " 13/13 (0.0 seconds remaining at  2.79 frames/s)"
      }
     },
     "bd02f67e6d4748ab8bd36a2d92fda23a": {
      "model_module": "@jupyter-widgets/controls",
      "model_module_version": "1.5.0",
      "model_name": "HBoxModel",
      "state": {
       "children": [
        "IPY_MODEL_1b0cdb6e3fad4114b46e831f12c80dad",
        "IPY_MODEL_62634d665f2344028c14e772aa87a4e1"
       ],
       "layout": "IPY_MODEL_2f278095108a45a991dfd7462df30b64"
      }
     },
     "c14d1d46e6e54dbaa5babe65d6efdac9": {
      "model_module": "@jupyter-widgets/base",
      "model_module_version": "1.2.0",
      "model_name": "LayoutModel",
      "state": {}
     },
     "c278211d619a4434a300777b5e5650f5": {
      "model_module": "@jupyter-widgets/controls",
      "model_module_version": "1.5.0",
      "model_name": "FloatProgressModel",
      "state": {
       "layout": "IPY_MODEL_1f03fdeca5a946438b34a48e794ae0bc",
       "max": 13,
       "style": "IPY_MODEL_b31c3473086e48d2b1bb9884a4c7e827",
       "value": 13
      }
     },
     "ca2a20889798447db067f844e03848c6": {
      "model_module": "@jupyter-widgets/controls",
      "model_module_version": "1.5.0",
      "model_name": "ProgressStyleModel",
      "state": {
       "description_width": "initial"
      }
     },
     "ce4c1d0c17054efeb86ddd79f712aee7": {
      "model_module": "@jupyter-widgets/controls",
      "model_module_version": "1.5.0",
      "model_name": "FloatProgressModel",
      "state": {
       "bar_style": "success",
       "description": "100%",
       "layout": "IPY_MODEL_7f407955aab144029790014f5aa7a5ed",
       "max": 13,
       "style": "IPY_MODEL_ca2a20889798447db067f844e03848c6",
       "value": 13
      }
     },
     "d06b9c766f984dde974ec9e954d61f92": {
      "model_module": "@jupyter-widgets/controls",
      "model_module_version": "1.5.0",
      "model_name": "FloatProgressModel",
      "state": {
       "bar_style": "success",
       "description": "100%",
       "layout": "IPY_MODEL_a65ff6ba0f974c7a9e72235faa2d5b30",
       "max": 13,
       "style": "IPY_MODEL_2f704ef9c90344ad98f2c4ae87266f57",
       "value": 13
      }
     },
     "d0ab12673dca4117912934441587c677": {
      "model_module": "@jupyter-widgets/controls",
      "model_module_version": "1.5.0",
      "model_name": "HBoxModel",
      "state": {
       "children": [
        "IPY_MODEL_0af01e9fa23b484e906e99f4be6c926f",
        "IPY_MODEL_bbb1c7f2b0b248b5975e79a68d037454"
       ],
       "layout": "IPY_MODEL_7cd1559ab00c4805a34e82e16efcbbee"
      }
     },
     "d184b04851d24e31bc5b6cc692b2fd79": {
      "model_module": "@jupyter-widgets/controls",
      "model_module_version": "1.5.0",
      "model_name": "DescriptionStyleModel",
      "state": {
       "description_width": ""
      }
     },
     "d20db7245ccc47a78c4634186caa73cc": {
      "model_module": "@jupyter-widgets/controls",
      "model_module_version": "1.5.0",
      "model_name": "HBoxModel",
      "state": {
       "children": [
        "IPY_MODEL_e084715b42174022aa24bb003e523cf8",
        "IPY_MODEL_65b77d7ec6ca412da6a7ba4385c70d8a"
       ],
       "layout": "IPY_MODEL_7ea8d8378ce04f83b910090f0c07123c"
      }
     },
     "d517c27fc6a74cd8b7505dbfeff0618b": {
      "model_module": "@jupyter-widgets/controls",
      "model_module_version": "1.5.0",
      "model_name": "HBoxModel",
      "state": {
       "children": [
        "IPY_MODEL_50595d5f0a15455b891144b1a3c86473",
        "IPY_MODEL_0a432da82d6b4037b74eaccbe571082e"
       ],
       "layout": "IPY_MODEL_6f7dc7b2b73c4ffeb22a50704c70b409"
      }
     },
     "d5aa3d6ee4674d84afac1bb1c58fade4": {
      "model_module": "@jupyter-widgets/base",
      "model_module_version": "1.2.0",
      "model_name": "LayoutModel",
      "state": {}
     },
     "da7b234acde24cf99e99692566bb1a20": {
      "model_module": "@jupyter-widgets/controls",
      "model_module_version": "1.5.0",
      "model_name": "FloatProgressModel",
      "state": {
       "description": "100%",
       "layout": "IPY_MODEL_9be0ed36f7d943f28b390e9413408c18",
       "max": 13,
       "style": "IPY_MODEL_ab347d198c974596bc4ccd192e567c57",
       "value": 13
      }
     },
     "e084715b42174022aa24bb003e523cf8": {
      "model_module": "@jupyter-widgets/controls",
      "model_module_version": "1.5.0",
      "model_name": "FloatProgressModel",
      "state": {
       "bar_style": "success",
       "description": "100%",
       "layout": "IPY_MODEL_99db185983b2465aa1e0de203fdf1d41",
       "max": 13,
       "style": "IPY_MODEL_9f89511a8ef146b1a964af9604843f31",
       "value": 13
      }
     },
     "e895057363e24e3ab041120f7381dfa7": {
      "model_module": "@jupyter-widgets/controls",
      "model_module_version": "1.5.0",
      "model_name": "DescriptionStyleModel",
      "state": {
       "description_width": ""
      }
     },
     "eb134de1f91c4f63afb428cda2e4a250": {
      "model_module": "@jupyter-widgets/controls",
      "model_module_version": "1.5.0",
      "model_name": "DescriptionStyleModel",
      "state": {
       "description_width": ""
      }
     },
     "eccb0b4d014c42a7a02328ef05a77892": {
      "model_module": "@jupyter-widgets/base",
      "model_module_version": "1.2.0",
      "model_name": "LayoutModel",
      "state": {}
     },
     "ef47e4cddc9746bba3a2d20cb69ed035": {
      "model_module": "@jupyter-widgets/base",
      "model_module_version": "1.2.0",
      "model_name": "LayoutModel",
      "state": {}
     },
     "f082ffec56a249da8b0f6cdd1f7abb1d": {
      "model_module": "@jupyter-widgets/controls",
      "model_module_version": "1.5.0",
      "model_name": "DescriptionStyleModel",
      "state": {
       "description_width": ""
      }
     },
     "fbd2d0627e8346be988758b526fda9fa": {
      "model_module": "@jupyter-widgets/base",
      "model_module_version": "1.2.0",
      "model_name": "LayoutModel",
      "state": {}
     }
    },
    "version_major": 2,
    "version_minor": 0
   }
  }
 },
 "nbformat": 4,
 "nbformat_minor": 4
}
